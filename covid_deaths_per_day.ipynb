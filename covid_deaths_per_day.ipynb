{
 "cells": [
  {
   "cell_type": "code",
   "execution_count": null,
   "source": [
    "# Import Pandas Module - Remember to use pip to install it into your active environment\n",
    "import pandas as pd\n",
    "\n",
    "# Read cvs into a dataframe, setting the index column then transpost it to the correct format: Col - Nations, Rows - Deaths per day\n",
    "df = pd.read_csv('covid.csv', index_col='COUNTRY_NAME').transpose()\n",
    "df"
   ],
   "outputs": [],
   "metadata": {}
  },
  {
   "cell_type": "code",
   "execution_count": null,
   "source": [
    "s = df.loc['2020-08']\n",
    "s"
   ],
   "outputs": [],
   "metadata": {}
  },
  {
   "cell_type": "code",
   "execution_count": null,
   "source": [
    "import matplotlib.pyplot as plt\n",
    "\n",
    "fig, ax = plt.subplots(figsize=(4, 2.5), dpi=1000)\n",
    "colors = plt.cm.Dark2(range(6))\n",
    "y = s.index\n",
    "width = s.values\n",
    "ax.barh(y=y, width=width, color=colors);"
   ],
   "outputs": [],
   "metadata": {}
  },
  {
   "cell_type": "code",
   "execution_count": null,
   "source": [
    "def nice_axes(ax):\n",
    "    ax.set_facecolor('.8')\n",
    "    ax.tick_params(labelsize=8, length=0)\n",
    "    ax.grid(True, axis='x', color='white')\n",
    "    ax.set_axisbelow(True)\n",
    "    [spine.set_visible(False) for spine in ax.spines.values()]\n",
    "    \n",
    "nice_axes(ax)\n",
    "fig"
   ],
   "outputs": [],
   "metadata": {}
  },
  {
   "cell_type": "code",
   "execution_count": null,
   "source": [
    "fig, ax_array = plt.subplots(nrows=1, ncols=3, figsize=(7, 2.5), \n",
    "                             dpi=144, tight_layout=True)\n",
    "dates = ['2020-03', '2020-04', '2020-05']\n",
    "for ax, date in zip(ax_array, dates):\n",
    "    s = df.loc[date]\n",
    "    y = df.loc[date].rank(method='first')\n",
    "    ax.barh(y=s.index, width=s.values, color=colors)\n",
    "    ax.set_title(date, fontsize='smaller')\n",
    "    nice_axes(ax)"
   ],
   "outputs": [],
   "metadata": {}
  },
  {
   "cell_type": "code",
   "execution_count": null,
   "source": [
    "df2 = df.loc['2020-02':'2021:5']\n",
    "df2 = df2.reset_index()\n",
    "df2.index = df2.index * 5"
   ],
   "outputs": [],
   "metadata": {}
  },
  {
   "cell_type": "code",
   "execution_count": null,
   "source": [
    "last_idx = df2.index[-1] + 1\n",
    "df_expanded = df2.reindex(range(last_idx))\n",
    "df_expanded"
   ],
   "outputs": [],
   "metadata": {}
  },
  {
   "cell_type": "code",
   "execution_count": null,
   "source": [
    "df_expanded['index'] = df_expanded['index'].fillna(method='ffill')\n",
    "df_expanded = df_expanded.set_index('index')\n",
    "df_expanded"
   ],
   "outputs": [],
   "metadata": {}
  },
  {
   "cell_type": "code",
   "execution_count": null,
   "source": [
    "df_rank_expanded = df_expanded.rank(axis=1, method='first')\n",
    "df_rank_expanded"
   ],
   "outputs": [],
   "metadata": {}
  },
  {
   "cell_type": "code",
   "execution_count": null,
   "source": [
    "df_expanded = df_expanded.interpolate()\n",
    "df_expanded"
   ],
   "outputs": [],
   "metadata": {}
  },
  {
   "cell_type": "code",
   "execution_count": null,
   "source": [
    "df_rank_expanded = df_rank_expanded.interpolate()\n",
    "df_rank_expanded"
   ],
   "outputs": [],
   "metadata": {}
  },
  {
   "cell_type": "code",
   "execution_count": null,
   "source": [
    "fig, ax_array = plt.subplots(nrows=1, ncols=6, figsize=(12, 2), \n",
    "                             dpi=144, tight_layout=True)\n",
    "labels = df_expanded.columns\n",
    "for i, ax in enumerate(ax_array.flatten()):\n",
    "    y = df_rank_expanded.iloc[i]\n",
    "    width = df_expanded.iloc[i]\n",
    "    ax.barh(y=y, width=width, color=colors, tick_label=labels)\n",
    "    nice_axes(ax)\n",
    "ax_array[0].set_title('2020-03')\n",
    "ax_array[-1].set_title('2020-04');"
   ],
   "outputs": [],
   "metadata": {}
  },
  {
   "cell_type": "code",
   "execution_count": null,
   "source": [
    "fig, ax_array = plt.subplots(nrows=1, ncols=6, figsize=(12, 2), \n",
    "                             dpi=144, tight_layout=True)\n",
    "labels = df_expanded.columns\n",
    "for i, ax in enumerate(ax_array.flatten(), start=5):\n",
    "    y = df_rank_expanded.iloc[i]\n",
    "    width = df_expanded.iloc[i]\n",
    "    ax.barh(y=y, width=width, color=colors, tick_label=labels)\n",
    "    nice_axes(ax)\n",
    "ax_array[0].set_title('2020-05')\n",
    "ax_array[-1].set_title('2020-06');"
   ],
   "outputs": [],
   "metadata": {}
  },
  {
   "cell_type": "code",
   "execution_count": null,
   "source": [
    "def prepare_data(df, steps=20):\n",
    "    df = df.reset_index()\n",
    "    df.index = df.index * steps\n",
    "    last_idx = df.index[-1] + 1\n",
    "    df_expanded = df.reindex(range(last_idx))\n",
    "    df_expanded['index'] = df_expanded['index'].fillna(method='ffill')\n",
    "    df_expanded = df_expanded.set_index('index')\n",
    "    df_rank_expanded = df_expanded.rank(axis=1, method='first')\n",
    "    df_expanded = df_expanded.interpolate()\n",
    "    df_rank_expanded = df_rank_expanded.interpolate()\n",
    "    return df_expanded, df_rank_expanded\n",
    "\n",
    "df_expanded, df_rank_expanded = prepare_data(df)\n",
    "df_expanded.head()"
   ],
   "outputs": [],
   "metadata": {}
  },
  {
   "cell_type": "code",
   "execution_count": null,
   "source": [
    "df_rank_expanded.head()\n",
    "df_rank_expanded"
   ],
   "outputs": [],
   "metadata": {}
  },
  {
   "cell_type": "code",
   "execution_count": null,
   "source": [
    "from IPython.display import HTML\n",
    "import bar_chart_race as bcr\n",
    "bcr.bar_chart_race(df, orientation='h', sort='desc', n_bars=5, shared_fontdict={'family' : 'Calibri', 'weight' : 'normal', 'color' : '.1'}, fixed_order=False, fixed_max=False, steps_per_period=20, period_length=2500, interpolate_period=False, label_bars=True, bar_size=0.5, period_label=True, period_fmt=None, period_summary_func=None, perpendicular_bar_func=None, figsize=(6, 3.5), cmap='dark24', title='Monthly Covid Deaths : East Africa', title_size=None, bar_label_size=7, tick_label_size=7, scale='log', writer=None, fig=None, dpi=144, bar_kwargs=None, filter_column_colors=False)\n"
   ],
   "outputs": [],
   "metadata": {}
  },
  {
   "cell_type": "code",
   "execution_count": null,
   "source": [],
   "outputs": [],
   "metadata": {}
  },
  {
   "cell_type": "code",
   "execution_count": null,
   "source": [],
   "outputs": [],
   "metadata": {}
  }
 ],
 "metadata": {
  "interpreter": {
   "hash": "7ac05f6c44cc5c1cccdb847c9626c6f75b9425a04d109a1169f1ec16b69adc47"
  },
  "kernelspec": {
   "display_name": "Python 3 (ipykernel)",
   "language": "python",
   "name": "python3"
  },
  "language_info": {
   "codemirror_mode": {
    "name": "ipython",
    "version": 3
   },
   "file_extension": ".py",
   "mimetype": "text/x-python",
   "name": "python",
   "nbconvert_exporter": "python",
   "pygments_lexer": "ipython3",
   "version": "3.9.6"
  }
 },
 "nbformat": 4,
 "nbformat_minor": 2
}